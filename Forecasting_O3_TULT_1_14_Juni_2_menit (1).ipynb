{
 "cells": [
  {
   "cell_type": "code",
   "execution_count": 1,
   "metadata": {},
   "outputs": [
    {
     "name": "stdout",
     "output_type": "stream",
     "text": [
      "Requirement already satisfied: keras in c:\\users\\tania christiana a\\anaconda3\\lib\\site-packages (2.12.0)\n",
      "Note: you may need to restart the kernel to use updated packages.\n"
     ]
    }
   ],
   "source": [
    "pip install keras"
   ]
  },
  {
   "cell_type": "code",
   "execution_count": 2,
   "metadata": {},
   "outputs": [
    {
     "name": "stdout",
     "output_type": "stream",
     "text": [
      "Requirement already satisfied: tensorflow in c:\\users\\tania christiana a\\anaconda3\\lib\\site-packages (2.12.0)\n",
      "Requirement already satisfied: tensorflow-intel==2.12.0 in c:\\users\\tania christiana a\\anaconda3\\lib\\site-packages (from tensorflow) (2.12.0)\n",
      "Requirement already satisfied: flatbuffers>=2.0 in c:\\users\\tania christiana a\\anaconda3\\lib\\site-packages (from tensorflow-intel==2.12.0->tensorflow) (23.5.26)\n",
      "Requirement already satisfied: tensorflow-estimator<2.13,>=2.12.0 in c:\\users\\tania christiana a\\anaconda3\\lib\\site-packages (from tensorflow-intel==2.12.0->tensorflow) (2.12.0)\n",
      "Requirement already satisfied: libclang>=13.0.0 in c:\\users\\tania christiana a\\anaconda3\\lib\\site-packages (from tensorflow-intel==2.12.0->tensorflow) (16.0.0)\n",
      "Requirement already satisfied: six>=1.12.0 in c:\\users\\tania christiana a\\anaconda3\\lib\\site-packages (from tensorflow-intel==2.12.0->tensorflow) (1.16.0)\n",
      "Requirement already satisfied: astunparse>=1.6.0 in c:\\users\\tania christiana a\\anaconda3\\lib\\site-packages (from tensorflow-intel==2.12.0->tensorflow) (1.6.3)\n",
      "Requirement already satisfied: setuptools in c:\\users\\tania christiana a\\anaconda3\\lib\\site-packages (from tensorflow-intel==2.12.0->tensorflow) (65.6.3)\n",
      "Requirement already satisfied: protobuf!=4.21.0,!=4.21.1,!=4.21.2,!=4.21.3,!=4.21.4,!=4.21.5,<5.0.0dev,>=3.20.3 in c:\\users\\tania christiana a\\anaconda3\\lib\\site-packages (from tensorflow-intel==2.12.0->tensorflow) (4.23.3)\n",
      "Requirement already satisfied: typing-extensions>=3.6.6 in c:\\users\\tania christiana a\\anaconda3\\lib\\site-packages (from tensorflow-intel==2.12.0->tensorflow) (4.4.0)\n",
      "Requirement already satisfied: termcolor>=1.1.0 in c:\\users\\tania christiana a\\anaconda3\\lib\\site-packages (from tensorflow-intel==2.12.0->tensorflow) (2.3.0)\n",
      "Requirement already satisfied: grpcio<2.0,>=1.24.3 in c:\\users\\tania christiana a\\anaconda3\\lib\\site-packages (from tensorflow-intel==2.12.0->tensorflow) (1.56.0)\n",
      "Requirement already satisfied: h5py>=2.9.0 in c:\\users\\tania christiana a\\anaconda3\\lib\\site-packages (from tensorflow-intel==2.12.0->tensorflow) (3.7.0)\n",
      "Requirement already satisfied: keras<2.13,>=2.12.0 in c:\\users\\tania christiana a\\anaconda3\\lib\\site-packages (from tensorflow-intel==2.12.0->tensorflow) (2.12.0)\n",
      "Requirement already satisfied: gast<=0.4.0,>=0.2.1 in c:\\users\\tania christiana a\\anaconda3\\lib\\site-packages (from tensorflow-intel==2.12.0->tensorflow) (0.4.0)\n",
      "Requirement already satisfied: jax>=0.3.15 in c:\\users\\tania christiana a\\anaconda3\\lib\\site-packages (from tensorflow-intel==2.12.0->tensorflow) (0.4.13)\n",
      "Requirement already satisfied: opt-einsum>=2.3.2 in c:\\users\\tania christiana a\\anaconda3\\lib\\site-packages (from tensorflow-intel==2.12.0->tensorflow) (3.3.0)\n",
      "Requirement already satisfied: google-pasta>=0.1.1 in c:\\users\\tania christiana a\\anaconda3\\lib\\site-packages (from tensorflow-intel==2.12.0->tensorflow) (0.2.0)\n",
      "Requirement already satisfied: wrapt<1.15,>=1.11.0 in c:\\users\\tania christiana a\\anaconda3\\lib\\site-packages (from tensorflow-intel==2.12.0->tensorflow) (1.14.1)\n",
      "Requirement already satisfied: numpy<1.24,>=1.22 in c:\\users\\tania christiana a\\anaconda3\\lib\\site-packages (from tensorflow-intel==2.12.0->tensorflow) (1.23.5)\n",
      "Requirement already satisfied: tensorflow-io-gcs-filesystem>=0.23.1 in c:\\users\\tania christiana a\\anaconda3\\lib\\site-packages (from tensorflow-intel==2.12.0->tensorflow) (0.31.0)\n",
      "Requirement already satisfied: tensorboard<2.13,>=2.12 in c:\\users\\tania christiana a\\anaconda3\\lib\\site-packages (from tensorflow-intel==2.12.0->tensorflow) (2.12.3)\n",
      "Requirement already satisfied: packaging in c:\\users\\tania christiana a\\anaconda3\\lib\\site-packages (from tensorflow-intel==2.12.0->tensorflow) (22.0)\n",
      "Requirement already satisfied: absl-py>=1.0.0 in c:\\users\\tania christiana a\\anaconda3\\lib\\site-packages (from tensorflow-intel==2.12.0->tensorflow) (1.4.0)\n",
      "Requirement already satisfied: wheel<1.0,>=0.23.0 in c:\\users\\tania christiana a\\anaconda3\\lib\\site-packages (from astunparse>=1.6.0->tensorflow-intel==2.12.0->tensorflow) (0.38.4)\n",
      "Requirement already satisfied: scipy>=1.7 in c:\\users\\tania christiana a\\anaconda3\\lib\\site-packages (from jax>=0.3.15->tensorflow-intel==2.12.0->tensorflow) (1.10.0)\n",
      "Requirement already satisfied: ml-dtypes>=0.1.0 in c:\\users\\tania christiana a\\anaconda3\\lib\\site-packages (from jax>=0.3.15->tensorflow-intel==2.12.0->tensorflow) (0.2.0)\n",
      "Requirement already satisfied: requests<3,>=2.21.0 in c:\\users\\tania christiana a\\anaconda3\\lib\\site-packages (from tensorboard<2.13,>=2.12->tensorflow-intel==2.12.0->tensorflow) (2.28.1)\n",
      "Requirement already satisfied: werkzeug>=1.0.1 in c:\\users\\tania christiana a\\anaconda3\\lib\\site-packages (from tensorboard<2.13,>=2.12->tensorflow-intel==2.12.0->tensorflow) (2.2.2)\n",
      "Requirement already satisfied: google-auth-oauthlib<1.1,>=0.5 in c:\\users\\tania christiana a\\anaconda3\\lib\\site-packages (from tensorboard<2.13,>=2.12->tensorflow-intel==2.12.0->tensorflow) (1.0.0)\n",
      "Requirement already satisfied: tensorboard-data-server<0.8.0,>=0.7.0 in c:\\users\\tania christiana a\\anaconda3\\lib\\site-packages (from tensorboard<2.13,>=2.12->tensorflow-intel==2.12.0->tensorflow) (0.7.1)\n",
      "Requirement already satisfied: markdown>=2.6.8 in c:\\users\\tania christiana a\\anaconda3\\lib\\site-packages (from tensorboard<2.13,>=2.12->tensorflow-intel==2.12.0->tensorflow) (3.4.1)\n",
      "Requirement already satisfied: google-auth<3,>=1.6.3 in c:\\users\\tania christiana a\\anaconda3\\lib\\site-packages (from tensorboard<2.13,>=2.12->tensorflow-intel==2.12.0->tensorflow) (2.20.0)\n",
      "Requirement already satisfied: rsa<5,>=3.1.4 in c:\\users\\tania christiana a\\anaconda3\\lib\\site-packages (from google-auth<3,>=1.6.3->tensorboard<2.13,>=2.12->tensorflow-intel==2.12.0->tensorflow) (4.9)\n",
      "Requirement already satisfied: urllib3<2.0 in c:\\users\\tania christiana a\\anaconda3\\lib\\site-packages (from google-auth<3,>=1.6.3->tensorboard<2.13,>=2.12->tensorflow-intel==2.12.0->tensorflow) (1.26.14)\n",
      "Requirement already satisfied: pyasn1-modules>=0.2.1 in c:\\users\\tania christiana a\\anaconda3\\lib\\site-packages (from google-auth<3,>=1.6.3->tensorboard<2.13,>=2.12->tensorflow-intel==2.12.0->tensorflow) (0.2.8)\n",
      "Requirement already satisfied: cachetools<6.0,>=2.0.0 in c:\\users\\tania christiana a\\anaconda3\\lib\\site-packages (from google-auth<3,>=1.6.3->tensorboard<2.13,>=2.12->tensorflow-intel==2.12.0->tensorflow) (5.3.1)\n",
      "Requirement already satisfied: requests-oauthlib>=0.7.0 in c:\\users\\tania christiana a\\anaconda3\\lib\\site-packages (from google-auth-oauthlib<1.1,>=0.5->tensorboard<2.13,>=2.12->tensorflow-intel==2.12.0->tensorflow) (1.3.1)\n",
      "Requirement already satisfied: charset-normalizer<3,>=2 in c:\\users\\tania christiana a\\anaconda3\\lib\\site-packages (from requests<3,>=2.21.0->tensorboard<2.13,>=2.12->tensorflow-intel==2.12.0->tensorflow) (2.0.4)\n",
      "Requirement already satisfied: idna<4,>=2.5 in c:\\users\\tania christiana a\\anaconda3\\lib\\site-packages (from requests<3,>=2.21.0->tensorboard<2.13,>=2.12->tensorflow-intel==2.12.0->tensorflow) (3.4)\n",
      "Requirement already satisfied: certifi>=2017.4.17 in c:\\users\\tania christiana a\\anaconda3\\lib\\site-packages (from requests<3,>=2.21.0->tensorboard<2.13,>=2.12->tensorflow-intel==2.12.0->tensorflow) (2022.12.7)\n",
      "Requirement already satisfied: MarkupSafe>=2.1.1 in c:\\users\\tania christiana a\\anaconda3\\lib\\site-packages (from werkzeug>=1.0.1->tensorboard<2.13,>=2.12->tensorflow-intel==2.12.0->tensorflow) (2.1.1)\n",
      "Requirement already satisfied: pyasn1<0.5.0,>=0.4.6 in c:\\users\\tania christiana a\\anaconda3\\lib\\site-packages (from pyasn1-modules>=0.2.1->google-auth<3,>=1.6.3->tensorboard<2.13,>=2.12->tensorflow-intel==2.12.0->tensorflow) (0.4.8)\n",
      "Requirement already satisfied: oauthlib>=3.0.0 in c:\\users\\tania christiana a\\anaconda3\\lib\\site-packages (from requests-oauthlib>=0.7.0->google-auth-oauthlib<1.1,>=0.5->tensorboard<2.13,>=2.12->tensorflow-intel==2.12.0->tensorflow) (3.2.2)\n",
      "Note: you may need to restart the kernel to use updated packages.\n"
     ]
    }
   ],
   "source": [
    "pip install tensorflow"
   ]
  },
  {
   "cell_type": "markdown",
   "metadata": {
    "id": "v_c6Mf1MuYBZ"
   },
   "source": [
    "1. Import Library"
   ]
  },
  {
   "cell_type": "code",
   "execution_count": 3,
   "metadata": {
    "id": "Viw-uPOsmqTW"
   },
   "outputs": [],
   "source": [
    "from datetime import datetime, timedelta\n",
    "from dateutil import parser\n",
    "import numpy as np\n",
    "import pandas as pd\n",
    "import matplotlib.pyplot as plt\n",
    "import seaborn as sns\n",
    "from sklearn.model_selection import train_test_split\n",
    "from sklearn.preprocessing import StandardScaler\n",
    "from sklearn.preprocessing import MinMaxScaler\n",
    "from keras.layers import Dense\n",
    "from keras.models import Sequential\n",
    "from keras.layers import LSTM\n",
    "from datetime import datetime\n",
    "import requests\n",
    "import tensorflow as tf\n",
    "from sklearn.metrics import explained_variance_score\n",
    "from sklearn.metrics import mean_absolute_error\n",
    "from sklearn.metrics import mean_squared_error\n",
    "from sklearn.metrics import r2_score"
   ]
  },
  {
   "cell_type": "markdown",
   "metadata": {
    "id": "V0SzSrbHuhYO"
   },
   "source": [
    "2. Import Data"
   ]
  },
  {
   "cell_type": "code",
   "execution_count": 4,
   "metadata": {
    "colab": {
     "base_uri": "https://localhost:8080/",
     "height": 424
    },
    "id": "nK_u1a7RyGEg",
    "outputId": "73793e74-413a-4b5b-ddff-6ea9a09339ed"
   },
   "outputs": [
    {
     "data": {
      "text/html": [
       "<div>\n",
       "<style scoped>\n",
       "    .dataframe tbody tr th:only-of-type {\n",
       "        vertical-align: middle;\n",
       "    }\n",
       "\n",
       "    .dataframe tbody tr th {\n",
       "        vertical-align: top;\n",
       "    }\n",
       "\n",
       "    .dataframe thead th {\n",
       "        text-align: right;\n",
       "    }\n",
       "</style>\n",
       "<table border=\"1\" class=\"dataframe\">\n",
       "  <thead>\n",
       "    <tr style=\"text-align: right;\">\n",
       "      <th></th>\n",
       "      <th>created_at</th>\n",
       "      <th>O3</th>\n",
       "      <th>entry_id</th>\n",
       "      <th>jam</th>\n",
       "      <th>bagianset</th>\n",
       "      <th>flag</th>\n",
       "    </tr>\n",
       "  </thead>\n",
       "  <tbody>\n",
       "    <tr>\n",
       "      <th>0</th>\n",
       "      <td>2023-06-01 00:00:00</td>\n",
       "      <td>20.0</td>\n",
       "      <td>1</td>\n",
       "      <td>0</td>\n",
       "      <td>0.1</td>\n",
       "      <td>1.1</td>\n",
       "    </tr>\n",
       "    <tr>\n",
       "      <th>1</th>\n",
       "      <td>2023-06-01 00:02:00</td>\n",
       "      <td>20.0</td>\n",
       "      <td>1</td>\n",
       "      <td>0</td>\n",
       "      <td>0.1</td>\n",
       "      <td>1.1</td>\n",
       "    </tr>\n",
       "    <tr>\n",
       "      <th>2</th>\n",
       "      <td>2023-06-01 00:04:00</td>\n",
       "      <td>20.0</td>\n",
       "      <td>1</td>\n",
       "      <td>0</td>\n",
       "      <td>0.1</td>\n",
       "      <td>1.1</td>\n",
       "    </tr>\n",
       "    <tr>\n",
       "      <th>3</th>\n",
       "      <td>2023-06-01 00:06:00</td>\n",
       "      <td>20.0</td>\n",
       "      <td>1</td>\n",
       "      <td>0</td>\n",
       "      <td>0.1</td>\n",
       "      <td>1.1</td>\n",
       "    </tr>\n",
       "    <tr>\n",
       "      <th>4</th>\n",
       "      <td>2023-06-01 00:10:00</td>\n",
       "      <td>20.0</td>\n",
       "      <td>1</td>\n",
       "      <td>0</td>\n",
       "      <td>0.1</td>\n",
       "      <td>1.1</td>\n",
       "    </tr>\n",
       "    <tr>\n",
       "      <th>...</th>\n",
       "      <td>...</td>\n",
       "      <td>...</td>\n",
       "      <td>...</td>\n",
       "      <td>...</td>\n",
       "      <td>...</td>\n",
       "      <td>...</td>\n",
       "    </tr>\n",
       "    <tr>\n",
       "      <th>6294</th>\n",
       "      <td>2023-06-16 15:50:00</td>\n",
       "      <td>20.0</td>\n",
       "      <td>16</td>\n",
       "      <td>15</td>\n",
       "      <td>0.2</td>\n",
       "      <td>16.2</td>\n",
       "    </tr>\n",
       "    <tr>\n",
       "      <th>6295</th>\n",
       "      <td>2023-06-16 15:52:00</td>\n",
       "      <td>20.0</td>\n",
       "      <td>16</td>\n",
       "      <td>15</td>\n",
       "      <td>0.2</td>\n",
       "      <td>16.2</td>\n",
       "    </tr>\n",
       "    <tr>\n",
       "      <th>6296</th>\n",
       "      <td>2023-06-16 15:54:00</td>\n",
       "      <td>20.0</td>\n",
       "      <td>16</td>\n",
       "      <td>15</td>\n",
       "      <td>0.2</td>\n",
       "      <td>16.2</td>\n",
       "    </tr>\n",
       "    <tr>\n",
       "      <th>6297</th>\n",
       "      <td>2023-06-16 15:56:00</td>\n",
       "      <td>20.0</td>\n",
       "      <td>16</td>\n",
       "      <td>15</td>\n",
       "      <td>0.2</td>\n",
       "      <td>16.2</td>\n",
       "    </tr>\n",
       "    <tr>\n",
       "      <th>6298</th>\n",
       "      <td>2023-06-16 15:58:00</td>\n",
       "      <td>20.0</td>\n",
       "      <td>16</td>\n",
       "      <td>15</td>\n",
       "      <td>0.2</td>\n",
       "      <td>16.2</td>\n",
       "    </tr>\n",
       "  </tbody>\n",
       "</table>\n",
       "<p>6299 rows × 6 columns</p>\n",
       "</div>"
      ],
      "text/plain": [
       "               created_at    O3  entry_id  jam  bagianset  flag\n",
       "0     2023-06-01 00:00:00  20.0         1    0        0.1   1.1\n",
       "1     2023-06-01 00:02:00  20.0         1    0        0.1   1.1\n",
       "2     2023-06-01 00:04:00  20.0         1    0        0.1   1.1\n",
       "3     2023-06-01 00:06:00  20.0         1    0        0.1   1.1\n",
       "4     2023-06-01 00:10:00  20.0         1    0        0.1   1.1\n",
       "...                   ...   ...       ...  ...        ...   ...\n",
       "6294  2023-06-16 15:50:00  20.0        16   15        0.2  16.2\n",
       "6295  2023-06-16 15:52:00  20.0        16   15        0.2  16.2\n",
       "6296  2023-06-16 15:54:00  20.0        16   15        0.2  16.2\n",
       "6297  2023-06-16 15:56:00  20.0        16   15        0.2  16.2\n",
       "6298  2023-06-16 15:58:00  20.0        16   15        0.2  16.2\n",
       "\n",
       "[6299 rows x 6 columns]"
      ]
     },
     "execution_count": 4,
     "metadata": {},
     "output_type": "execute_result"
    }
   ],
   "source": [
    "df=pd.read_csv('O3 Validation No Interpolate.csv')\n",
    "df"
   ]
  },
  {
   "cell_type": "markdown",
   "metadata": {
    "id": "p_SYMkQjunKD"
   },
   "source": [
    "3. Feature Selection"
   ]
  },
  {
   "cell_type": "code",
   "execution_count": 5,
   "metadata": {
    "colab": {
     "base_uri": "https://localhost:8080/"
    },
    "id": "-9ocYRTsML6a",
    "outputId": "3f98d130-e79b-423e-f4f5-14393905ec77"
   },
   "outputs": [
    {
     "name": "stdout",
     "output_type": "stream",
     "text": [
      "               created_at    O3  entry_id  jam  bagianset  flag\n",
      "5675  2023-06-15 00:00:00  20.0        15    0        0.1  15.1\n"
     ]
    }
   ],
   "source": [
    "index_list = [5675]  # Indeks yang ingin ditampilkan\n",
    "df_filtered = df.iloc[index_list]\n",
    "\n",
    "# Menampilkan DataFrame hasil filter\n",
    "print(df_filtered)"
   ]
  },
  {
   "cell_type": "code",
   "execution_count": 6,
   "metadata": {
    "colab": {
     "base_uri": "https://localhost:8080/",
     "height": 424
    },
    "id": "AqCrsW5ZK0v6",
    "outputId": "9d81f76f-3ba1-4a9a-d317-c72545783a0c"
   },
   "outputs": [
    {
     "data": {
      "text/html": [
       "<div>\n",
       "<style scoped>\n",
       "    .dataframe tbody tr th:only-of-type {\n",
       "        vertical-align: middle;\n",
       "    }\n",
       "\n",
       "    .dataframe tbody tr th {\n",
       "        vertical-align: top;\n",
       "    }\n",
       "\n",
       "    .dataframe thead th {\n",
       "        text-align: right;\n",
       "    }\n",
       "</style>\n",
       "<table border=\"1\" class=\"dataframe\">\n",
       "  <thead>\n",
       "    <tr style=\"text-align: right;\">\n",
       "      <th></th>\n",
       "      <th>created_at</th>\n",
       "      <th>O3</th>\n",
       "      <th>entry_id</th>\n",
       "      <th>jam</th>\n",
       "      <th>bagianset</th>\n",
       "      <th>flag</th>\n",
       "    </tr>\n",
       "  </thead>\n",
       "  <tbody>\n",
       "    <tr>\n",
       "      <th>0</th>\n",
       "      <td>2023-06-01 00:00:00</td>\n",
       "      <td>20.0</td>\n",
       "      <td>1</td>\n",
       "      <td>0</td>\n",
       "      <td>0.1</td>\n",
       "      <td>1.1</td>\n",
       "    </tr>\n",
       "    <tr>\n",
       "      <th>1</th>\n",
       "      <td>2023-06-01 00:02:00</td>\n",
       "      <td>20.0</td>\n",
       "      <td>1</td>\n",
       "      <td>0</td>\n",
       "      <td>0.1</td>\n",
       "      <td>1.1</td>\n",
       "    </tr>\n",
       "    <tr>\n",
       "      <th>2</th>\n",
       "      <td>2023-06-01 00:04:00</td>\n",
       "      <td>20.0</td>\n",
       "      <td>1</td>\n",
       "      <td>0</td>\n",
       "      <td>0.1</td>\n",
       "      <td>1.1</td>\n",
       "    </tr>\n",
       "    <tr>\n",
       "      <th>3</th>\n",
       "      <td>2023-06-01 00:06:00</td>\n",
       "      <td>20.0</td>\n",
       "      <td>1</td>\n",
       "      <td>0</td>\n",
       "      <td>0.1</td>\n",
       "      <td>1.1</td>\n",
       "    </tr>\n",
       "    <tr>\n",
       "      <th>4</th>\n",
       "      <td>2023-06-01 00:10:00</td>\n",
       "      <td>20.0</td>\n",
       "      <td>1</td>\n",
       "      <td>0</td>\n",
       "      <td>0.1</td>\n",
       "      <td>1.1</td>\n",
       "    </tr>\n",
       "    <tr>\n",
       "      <th>...</th>\n",
       "      <td>...</td>\n",
       "      <td>...</td>\n",
       "      <td>...</td>\n",
       "      <td>...</td>\n",
       "      <td>...</td>\n",
       "      <td>...</td>\n",
       "    </tr>\n",
       "    <tr>\n",
       "      <th>5671</th>\n",
       "      <td>2023-06-14 23:52:00</td>\n",
       "      <td>20.0</td>\n",
       "      <td>14</td>\n",
       "      <td>23</td>\n",
       "      <td>0.3</td>\n",
       "      <td>14.3</td>\n",
       "    </tr>\n",
       "    <tr>\n",
       "      <th>5672</th>\n",
       "      <td>2023-06-14 23:54:00</td>\n",
       "      <td>20.0</td>\n",
       "      <td>14</td>\n",
       "      <td>23</td>\n",
       "      <td>0.3</td>\n",
       "      <td>14.3</td>\n",
       "    </tr>\n",
       "    <tr>\n",
       "      <th>5673</th>\n",
       "      <td>2023-06-14 23:56:00</td>\n",
       "      <td>20.0</td>\n",
       "      <td>14</td>\n",
       "      <td>23</td>\n",
       "      <td>0.3</td>\n",
       "      <td>14.3</td>\n",
       "    </tr>\n",
       "    <tr>\n",
       "      <th>5674</th>\n",
       "      <td>2023-06-14 23:58:00</td>\n",
       "      <td>20.0</td>\n",
       "      <td>14</td>\n",
       "      <td>23</td>\n",
       "      <td>0.3</td>\n",
       "      <td>14.3</td>\n",
       "    </tr>\n",
       "    <tr>\n",
       "      <th>5675</th>\n",
       "      <td>2023-06-15 00:00:00</td>\n",
       "      <td>20.0</td>\n",
       "      <td>15</td>\n",
       "      <td>0</td>\n",
       "      <td>0.1</td>\n",
       "      <td>15.1</td>\n",
       "    </tr>\n",
       "  </tbody>\n",
       "</table>\n",
       "<p>5676 rows × 6 columns</p>\n",
       "</div>"
      ],
      "text/plain": [
       "               created_at    O3  entry_id  jam  bagianset  flag\n",
       "0     2023-06-01 00:00:00  20.0         1    0        0.1   1.1\n",
       "1     2023-06-01 00:02:00  20.0         1    0        0.1   1.1\n",
       "2     2023-06-01 00:04:00  20.0         1    0        0.1   1.1\n",
       "3     2023-06-01 00:06:00  20.0         1    0        0.1   1.1\n",
       "4     2023-06-01 00:10:00  20.0         1    0        0.1   1.1\n",
       "...                   ...   ...       ...  ...        ...   ...\n",
       "5671  2023-06-14 23:52:00  20.0        14   23        0.3  14.3\n",
       "5672  2023-06-14 23:54:00  20.0        14   23        0.3  14.3\n",
       "5673  2023-06-14 23:56:00  20.0        14   23        0.3  14.3\n",
       "5674  2023-06-14 23:58:00  20.0        14   23        0.3  14.3\n",
       "5675  2023-06-15 00:00:00  20.0        15    0        0.1  15.1\n",
       "\n",
       "[5676 rows x 6 columns]"
      ]
     },
     "execution_count": 6,
     "metadata": {},
     "output_type": "execute_result"
    }
   ],
   "source": [
    "df = df.drop(df.index[5676:6299])\n",
    "df"
   ]
  },
  {
   "cell_type": "code",
   "execution_count": 7,
   "metadata": {
    "colab": {
     "base_uri": "https://localhost:8080/"
    },
    "id": "xyLSDTn6uWxW",
    "outputId": "f4b6e1df-701d-4737-c260-19f0dfbb4eb8"
   },
   "outputs": [
    {
     "name": "stdout",
     "output_type": "stream",
     "text": [
      "<class 'pandas.core.frame.DataFrame'>\n",
      "RangeIndex: 5676 entries, 0 to 5675\n",
      "Data columns (total 6 columns):\n",
      " #   Column      Non-Null Count  Dtype  \n",
      "---  ------      --------------  -----  \n",
      " 0   created_at  5676 non-null   object \n",
      " 1   O3          5676 non-null   float64\n",
      " 2   entry_id    5676 non-null   int64  \n",
      " 3   jam         5676 non-null   int64  \n",
      " 4   bagianset   5676 non-null   float64\n",
      " 5   flag        5676 non-null   float64\n",
      "dtypes: float64(3), int64(2), object(1)\n",
      "memory usage: 266.2+ KB\n"
     ]
    }
   ],
   "source": [
    "df.info()"
   ]
  },
  {
   "cell_type": "code",
   "execution_count": 8,
   "metadata": {
    "colab": {
     "base_uri": "https://localhost:8080/",
     "height": 300
    },
    "id": "-3oLFnkBvE5M",
    "outputId": "68115bc3-6a52-45c2-ec7b-d0fe0ee53df8"
   },
   "outputs": [
    {
     "data": {
      "text/html": [
       "<div>\n",
       "<style scoped>\n",
       "    .dataframe tbody tr th:only-of-type {\n",
       "        vertical-align: middle;\n",
       "    }\n",
       "\n",
       "    .dataframe tbody tr th {\n",
       "        vertical-align: top;\n",
       "    }\n",
       "\n",
       "    .dataframe thead th {\n",
       "        text-align: right;\n",
       "    }\n",
       "</style>\n",
       "<table border=\"1\" class=\"dataframe\">\n",
       "  <thead>\n",
       "    <tr style=\"text-align: right;\">\n",
       "      <th></th>\n",
       "      <th>O3</th>\n",
       "      <th>entry_id</th>\n",
       "      <th>jam</th>\n",
       "      <th>bagianset</th>\n",
       "      <th>flag</th>\n",
       "    </tr>\n",
       "  </thead>\n",
       "  <tbody>\n",
       "    <tr>\n",
       "      <th>count</th>\n",
       "      <td>5676.000000</td>\n",
       "      <td>5676.000000</td>\n",
       "      <td>5676.000000</td>\n",
       "      <td>5676.000000</td>\n",
       "      <td>5676.000000</td>\n",
       "    </tr>\n",
       "    <tr>\n",
       "      <th>mean</th>\n",
       "      <td>24.297569</td>\n",
       "      <td>7.145173</td>\n",
       "      <td>13.051621</td>\n",
       "      <td>0.220789</td>\n",
       "      <td>7.365962</td>\n",
       "    </tr>\n",
       "    <tr>\n",
       "      <th>std</th>\n",
       "      <td>8.914320</td>\n",
       "      <td>4.010655</td>\n",
       "      <td>6.049369</td>\n",
       "      <td>0.070924</td>\n",
       "      <td>4.013516</td>\n",
       "    </tr>\n",
       "    <tr>\n",
       "      <th>min</th>\n",
       "      <td>19.000000</td>\n",
       "      <td>1.000000</td>\n",
       "      <td>0.000000</td>\n",
       "      <td>0.100000</td>\n",
       "      <td>1.100000</td>\n",
       "    </tr>\n",
       "    <tr>\n",
       "      <th>25%</th>\n",
       "      <td>20.000000</td>\n",
       "      <td>4.000000</td>\n",
       "      <td>9.000000</td>\n",
       "      <td>0.200000</td>\n",
       "      <td>4.200000</td>\n",
       "    </tr>\n",
       "    <tr>\n",
       "      <th>50%</th>\n",
       "      <td>20.000000</td>\n",
       "      <td>7.000000</td>\n",
       "      <td>13.000000</td>\n",
       "      <td>0.200000</td>\n",
       "      <td>7.300000</td>\n",
       "    </tr>\n",
       "    <tr>\n",
       "      <th>75%</th>\n",
       "      <td>25.000000</td>\n",
       "      <td>10.000000</td>\n",
       "      <td>18.000000</td>\n",
       "      <td>0.300000</td>\n",
       "      <td>10.300000</td>\n",
       "    </tr>\n",
       "    <tr>\n",
       "      <th>max</th>\n",
       "      <td>102.000000</td>\n",
       "      <td>15.000000</td>\n",
       "      <td>23.000000</td>\n",
       "      <td>0.300000</td>\n",
       "      <td>15.100000</td>\n",
       "    </tr>\n",
       "  </tbody>\n",
       "</table>\n",
       "</div>"
      ],
      "text/plain": [
       "                O3     entry_id          jam    bagianset         flag\n",
       "count  5676.000000  5676.000000  5676.000000  5676.000000  5676.000000\n",
       "mean     24.297569     7.145173    13.051621     0.220789     7.365962\n",
       "std       8.914320     4.010655     6.049369     0.070924     4.013516\n",
       "min      19.000000     1.000000     0.000000     0.100000     1.100000\n",
       "25%      20.000000     4.000000     9.000000     0.200000     4.200000\n",
       "50%      20.000000     7.000000    13.000000     0.200000     7.300000\n",
       "75%      25.000000    10.000000    18.000000     0.300000    10.300000\n",
       "max     102.000000    15.000000    23.000000     0.300000    15.100000"
      ]
     },
     "execution_count": 8,
     "metadata": {},
     "output_type": "execute_result"
    }
   ],
   "source": [
    "df.describe()"
   ]
  },
  {
   "cell_type": "code",
   "execution_count": 9,
   "metadata": {
    "colab": {
     "base_uri": "https://localhost:8080/"
    },
    "id": "DugIoTQDuwq8",
    "outputId": "635589cb-c0ee-4a01-a5b5-f4c91331f0c9"
   },
   "outputs": [
    {
     "name": "stdout",
     "output_type": "stream",
     "text": [
      "<class 'pandas.core.frame.DataFrame'>\n",
      "RangeIndex: 5676 entries, 0 to 5675\n",
      "Data columns (total 7 columns):\n",
      " #   Column      Non-Null Count  Dtype         \n",
      "---  ------      --------------  -----         \n",
      " 0   created_at  5676 non-null   object        \n",
      " 1   O3          5676 non-null   float64       \n",
      " 2   entry_id    5676 non-null   int64         \n",
      " 3   jam         5676 non-null   int64         \n",
      " 4   bagianset   5676 non-null   float64       \n",
      " 5   flag        5676 non-null   float64       \n",
      " 6   DateTime    5676 non-null   datetime64[ns]\n",
      "dtypes: datetime64[ns](1), float64(3), int64(2), object(1)\n",
      "memory usage: 310.5+ KB\n"
     ]
    }
   ],
   "source": [
    "df['DateTime']=df['created_at'].astype('datetime64[ns]')\n",
    "df.info()"
   ]
  },
  {
   "cell_type": "code",
   "execution_count": 10,
   "metadata": {
    "colab": {
     "base_uri": "https://localhost:8080/",
     "height": 666
    },
    "id": "XdABi-qmuDUr",
    "outputId": "b7e71f01-25b1-4745-8c38-87d15441e015"
   },
   "outputs": [
    {
     "name": "stderr",
     "output_type": "stream",
     "text": [
      "C:\\Users\\Tania Christiana A\\AppData\\Local\\Temp\\ipykernel_11904\\3980012392.py:2: SettingWithCopyWarning: \n",
      "A value is trying to be set on a copy of a slice from a DataFrame.\n",
      "Try using .loc[row_indexer,col_indexer] = value instead\n",
      "\n",
      "See the caveats in the documentation: https://pandas.pydata.org/pandas-docs/stable/user_guide/indexing.html#returning-a-view-versus-a-copy\n",
      "  df['DateTime'] = pd.to_datetime(df['DateTime'])\n",
      "C:\\Users\\Tania Christiana A\\AppData\\Local\\Temp\\ipykernel_11904\\3980012392.py:4: SettingWithCopyWarning: \n",
      "A value is trying to be set on a copy of a slice from a DataFrame\n",
      "\n",
      "See the caveats in the documentation: https://pandas.pydata.org/pandas-docs/stable/user_guide/indexing.html#returning-a-view-versus-a-copy\n",
      "  df.drop(columns='DateTime', axis=1, inplace=True)\n"
     ]
    },
    {
     "data": {
      "text/html": [
       "<div>\n",
       "<style scoped>\n",
       "    .dataframe tbody tr th:only-of-type {\n",
       "        vertical-align: middle;\n",
       "    }\n",
       "\n",
       "    .dataframe tbody tr th {\n",
       "        vertical-align: top;\n",
       "    }\n",
       "\n",
       "    .dataframe thead th {\n",
       "        text-align: right;\n",
       "    }\n",
       "</style>\n",
       "<table border=\"1\" class=\"dataframe\">\n",
       "  <thead>\n",
       "    <tr style=\"text-align: right;\">\n",
       "      <th></th>\n",
       "      <th>O3</th>\n",
       "    </tr>\n",
       "    <tr>\n",
       "      <th>DateTime</th>\n",
       "      <th></th>\n",
       "    </tr>\n",
       "  </thead>\n",
       "  <tbody>\n",
       "    <tr>\n",
       "      <th>2023-06-01 00:00:00</th>\n",
       "      <td>20.0</td>\n",
       "    </tr>\n",
       "    <tr>\n",
       "      <th>2023-06-01 00:02:00</th>\n",
       "      <td>20.0</td>\n",
       "    </tr>\n",
       "    <tr>\n",
       "      <th>2023-06-01 00:04:00</th>\n",
       "      <td>20.0</td>\n",
       "    </tr>\n",
       "    <tr>\n",
       "      <th>2023-06-01 00:06:00</th>\n",
       "      <td>20.0</td>\n",
       "    </tr>\n",
       "    <tr>\n",
       "      <th>2023-06-01 00:10:00</th>\n",
       "      <td>20.0</td>\n",
       "    </tr>\n",
       "    <tr>\n",
       "      <th>...</th>\n",
       "      <td>...</td>\n",
       "    </tr>\n",
       "    <tr>\n",
       "      <th>2023-06-14 23:52:00</th>\n",
       "      <td>20.0</td>\n",
       "    </tr>\n",
       "    <tr>\n",
       "      <th>2023-06-14 23:54:00</th>\n",
       "      <td>20.0</td>\n",
       "    </tr>\n",
       "    <tr>\n",
       "      <th>2023-06-14 23:56:00</th>\n",
       "      <td>20.0</td>\n",
       "    </tr>\n",
       "    <tr>\n",
       "      <th>2023-06-14 23:58:00</th>\n",
       "      <td>20.0</td>\n",
       "    </tr>\n",
       "    <tr>\n",
       "      <th>2023-06-15 00:00:00</th>\n",
       "      <td>20.0</td>\n",
       "    </tr>\n",
       "  </tbody>\n",
       "</table>\n",
       "<p>5676 rows × 1 columns</p>\n",
       "</div>"
      ],
      "text/plain": [
       "                       O3\n",
       "DateTime                 \n",
       "2023-06-01 00:00:00  20.0\n",
       "2023-06-01 00:02:00  20.0\n",
       "2023-06-01 00:04:00  20.0\n",
       "2023-06-01 00:06:00  20.0\n",
       "2023-06-01 00:10:00  20.0\n",
       "...                   ...\n",
       "2023-06-14 23:52:00  20.0\n",
       "2023-06-14 23:54:00  20.0\n",
       "2023-06-14 23:56:00  20.0\n",
       "2023-06-14 23:58:00  20.0\n",
       "2023-06-15 00:00:00  20.0\n",
       "\n",
       "[5676 rows x 1 columns]"
      ]
     },
     "execution_count": 10,
     "metadata": {},
     "output_type": "execute_result"
    }
   ],
   "source": [
    "df = df[['DateTime', 'O3']]\n",
    "df['DateTime'] = pd.to_datetime(df['DateTime'])\n",
    "df.set_index(df['DateTime'],inplace=True)\n",
    "df.drop(columns='DateTime', axis=1, inplace=True)\n",
    "df"
   ]
  },
  {
   "cell_type": "code",
   "execution_count": 11,
   "metadata": {
    "id": "JPaOjEWIJD9z"
   },
   "outputs": [],
   "source": [
    "df.to_csv('data_valid O3 1-14Juni.csv')"
   ]
  },
  {
   "cell_type": "code",
   "execution_count": 12,
   "metadata": {
    "colab": {
     "base_uri": "https://localhost:8080/",
     "height": 453
    },
    "id": "JBrLKjVUuwmY",
    "outputId": "bda4eaaa-be83-4740-afb3-75b816ada707"
   },
   "outputs": [
    {
     "data": {
      "image/png": "[encoded data removed]",
      "text/plain": [
       "<Figure size 1800x800 with 1 Axes>"
      ]
     },
     "metadata": {},
     "output_type": "display_data"
    }
   ],
   "source": [
    "plt.figure(figsize=(18, 8))\n",
    "plt.plot(df['O3'])\n",
    "plt.xlabel('Time')\n",
    "plt.ylabel('O3 Concentration (ppb)')\n",
    "plt.grid(False)\n",
    "plt.show()"
   ]
  },
  {
   "cell_type": "markdown",
   "metadata": {
    "id": "ElcU9Dg3vA1p"
   },
   "source": [
    "4. Preprocessing & Dataset Splitting"
   ]
  },
  {
   "cell_type": "code",
   "execution_count": 13,
   "metadata": {
    "colab": {
     "base_uri": "https://localhost:8080/"
    },
    "id": "AfYS2Zfhu_5Y",
    "outputId": "27c18b01-95c7-4eca-f88b-4e48c922c160"
   },
   "outputs": [
    {
     "data": {
      "text/plain": [
       "array([[0.01204819],\n",
       "       [0.01204819],\n",
       "       [0.01204819],\n",
       "       ...,\n",
       "       [0.01204819],\n",
       "       [0.01204819],\n",
       "       [0.01204819]])"
      ]
     },
     "execution_count": 13,
     "metadata": {},
     "output_type": "execute_result"
    }
   ],
   "source": [
    "scaler = MinMaxScaler(feature_range=(0,1))\n",
    "scaled_data = scaler.fit_transform(df)\n",
    "scaled_data"
   ]
  },
  {
   "cell_type": "markdown",
   "metadata": {
    "id": "mSKkiby2vPE-"
   },
   "source": [
    "5. Train Split Function"
   ]
  },
  {
   "cell_type": "code",
   "execution_count": 14,
   "metadata": {
    "id": "L935d-_PvS7S"
   },
   "outputs": [],
   "source": [
    "def train_split(dataframe, split):\n",
    "  data_array = dataframe\n",
    "  training_len = int(np.ceil(len(data_array)*split))\n",
    "  scaled_data = data_array\n",
    "\n",
    "  train_data = scaled_data[0:int(training_len), :]\n",
    "  X_train = []\n",
    "  y_train = []\n",
    "  for i in range(30, len(train_data)):\n",
    "      X_train.append(train_data[i-30:i, 0])\n",
    "      y_train.append(train_data[i, 0])\n",
    "\n",
    "  X_train, y_train = np.array(X_train), np.array(y_train)\n",
    "  X_train = np.reshape(X_train, (X_train.shape[0], X_train.shape[1], 1))\n",
    "\n",
    "  return X_train, y_train, training_len, scaled_data, data_array"
   ]
  },
  {
   "cell_type": "code",
   "execution_count": 15,
   "metadata": {
    "id": "bbtDtBRKvXQq"
   },
   "outputs": [],
   "source": [
    "X_train_70, y_train_70, training_len_70, scaled_data, data_array = train_split(dataframe=scaled_data, split=.70)"
   ]
  },
  {
   "cell_type": "code",
   "execution_count": 16,
   "metadata": {
    "colab": {
     "base_uri": "https://localhost:8080/"
    },
    "id": "uZxkrjuCvw8b",
    "outputId": "e10d10fb-469e-471b-a190-aba4a97d6cf9"
   },
   "outputs": [
    {
     "data": {
      "text/plain": [
       "(3944, 30, 1)"
      ]
     },
     "execution_count": 16,
     "metadata": {},
     "output_type": "execute_result"
    }
   ],
   "source": [
    "X_train_70.shape"
   ]
  },
  {
   "cell_type": "markdown",
   "metadata": {
    "id": "1qx_IiYpvcTl"
   },
   "source": [
    "6. Architecture Model"
   ]
  },
  {
   "cell_type": "code",
   "execution_count": 17,
   "metadata": {
    "colab": {
     "base_uri": "https://localhost:8080/"
    },
    "id": "JvSKRlNjvfKf",
    "outputId": "ca1317fa-ff74-477e-a6db-8a82d709da21"
   },
   "outputs": [
    {
     "name": "stderr",
     "output_type": "stream",
     "text": [
      "WARNING:absl:`lr` is deprecated in Keras optimizer, please use `learning_rate` or use the legacy optimizer, e.g.,tf.keras.optimizers.legacy.Adam.\n"
     ]
    },
    {
     "name": "stdout",
     "output_type": "stream",
     "text": [
      "Epoch 1/100\n",
      "124/124 [==============================] - 6s 15ms/step - loss: 0.0091 - mae: 0.0779 - lr: 1.0000e-06\n",
      "Epoch 2/100\n",
      "124/124 [==============================] - 2s 16ms/step - loss: 0.0090 - mae: 0.0764 - lr: 1.1220e-06\n",
      "Epoch 3/100\n",
      "124/124 [==============================] - 2s 15ms/step - loss: 0.0088 - mae: 0.0748 - lr: 1.2589e-06\n",
      "Epoch 4/100\n",
      "124/124 [==============================] - 2s 15ms/step - loss: 0.0086 - mae: 0.0732 - lr: 1.4125e-06\n",
      "Epoch 5/100\n",
      "124/124 [==============================] - 2s 14ms/step - loss: 0.0084 - mae: 0.0716 - lr: 1.5849e-06\n",
      "Epoch 6/100\n",
      "124/124 [==============================] - 2s 15ms/step - loss: 0.0082 - mae: 0.0700 - lr: 1.7783e-06\n",
      "Epoch 7/100\n",
      "124/124 [==============================] - 2s 17ms/step - loss: 0.0080 - mae: 0.0683 - lr: 1.9953e-06\n",
      "Epoch 8/100\n",
      "124/124 [==============================] - 2s 16ms/step - loss: 0.0078 - mae: 0.0663 - lr: 2.2387e-06\n",
      "Epoch 9/100\n",
      "124/124 [==============================] - 2s 16ms/step - loss: 0.0076 - mae: 0.0640 - lr: 2.5119e-06\n",
      "Epoch 10/100\n",
      "124/124 [==============================] - 2s 16ms/step - loss: 0.0074 - mae: 0.0615 - lr: 2.8184e-06\n",
      "Epoch 11/100\n",
      "124/124 [==============================] - 2s 17ms/step - loss: 0.0071 - mae: 0.0588 - lr: 3.1623e-06\n",
      "Epoch 12/100\n",
      "124/124 [==============================] - 2s 16ms/step - loss: 0.0068 - mae: 0.0567 - lr: 3.5481e-06\n",
      "Epoch 13/100\n",
      "124/124 [==============================] - 2s 15ms/step - loss: 0.0065 - mae: 0.0558 - lr: 3.9811e-06\n",
      "Epoch 14/100\n",
      "124/124 [==============================] - 2s 16ms/step - loss: 0.0062 - mae: 0.0552 - lr: 4.4668e-06\n",
      "Epoch 15/100\n",
      "124/124 [==============================] - 2s 15ms/step - loss: 0.0059 - mae: 0.0545 - lr: 5.0119e-06\n",
      "Epoch 16/100\n",
      "124/124 [==============================] - 2s 19ms/step - loss: 0.0056 - mae: 0.0539 - lr: 5.6234e-06\n",
      "Epoch 17/100\n",
      "124/124 [==============================] - 2s 19ms/step - loss: 0.0052 - mae: 0.0535 - lr: 6.3096e-06\n",
      "Epoch 18/100\n",
      "124/124 [==============================] - 2s 19ms/step - loss: 0.0049 - mae: 0.0531 - lr: 7.0795e-06\n",
      "Epoch 19/100\n",
      "124/124 [==============================] - 2s 19ms/step - loss: 0.0046 - mae: 0.0528 - lr: 7.9433e-06\n",
      "Epoch 20/100\n",
      "124/124 [==============================] - 2s 18ms/step - loss: 0.0043 - mae: 0.0527 - lr: 8.9125e-06\n",
      "Epoch 21/100\n",
      "124/124 [==============================] - 2s 16ms/step - loss: 0.0040 - mae: 0.0528 - lr: 1.0000e-05\n",
      "Epoch 22/100\n",
      "124/124 [==============================] - 2s 16ms/step - loss: 0.0038 - mae: 0.0528 - lr: 1.1220e-05\n",
      "Epoch 23/100\n",
      "124/124 [==============================] - 2s 16ms/step - loss: 0.0035 - mae: 0.0525 - lr: 1.2589e-05\n",
      "Epoch 24/100\n",
      "124/124 [==============================] - 2s 19ms/step - loss: 0.0033 - mae: 0.0518 - lr: 1.4125e-05\n",
      "Epoch 25/100\n",
      "124/124 [==============================] - 2s 17ms/step - loss: 0.0030 - mae: 0.0510 - lr: 1.5849e-05\n",
      "Epoch 26/100\n",
      "124/124 [==============================] - 2s 16ms/step - loss: 0.0028 - mae: 0.0493 - lr: 1.7783e-05\n",
      "Epoch 27/100\n",
      "124/124 [==============================] - 2s 15ms/step - loss: 0.0025 - mae: 0.0471 - lr: 1.9953e-05\n",
      "Epoch 28/100\n",
      "124/124 [==============================] - 2s 15ms/step - loss: 0.0022 - mae: 0.0439 - lr: 2.2387e-05\n",
      "Epoch 29/100\n",
      "124/124 [==============================] - 2s 15ms/step - loss: 0.0019 - mae: 0.0399 - lr: 2.5119e-05\n",
      "Epoch 30/100\n",
      "124/124 [==============================] - 2s 15ms/step - loss: 0.0017 - mae: 0.0360 - lr: 2.8184e-05\n",
      "Epoch 31/100\n",
      "124/124 [==============================] - 2s 15ms/step - loss: 0.0015 - mae: 0.0330 - lr: 3.1623e-05\n",
      "Epoch 32/100\n",
      "124/124 [==============================] - 2s 18ms/step - loss: 0.0014 - mae: 0.0301 - lr: 3.5481e-05\n",
      "Epoch 33/100\n",
      "124/124 [==============================] - 2s 16ms/step - loss: 0.0013 - mae: 0.0285 - lr: 3.9811e-05\n",
      "Epoch 34/100\n",
      "124/124 [==============================] - 2s 19ms/step - loss: 0.0013 - mae: 0.0272 - lr: 4.4668e-05\n",
      "Epoch 35/100\n",
      "124/124 [==============================] - 2s 19ms/step - loss: 0.0012 - mae: 0.0264 - lr: 5.0119e-05\n",
      "Epoch 36/100\n",
      "124/124 [==============================] - 2s 18ms/step - loss: 0.0012 - mae: 0.0252 - lr: 5.6234e-05\n",
      "Epoch 37/100\n",
      "124/124 [==============================] - 2s 19ms/step - loss: 0.0011 - mae: 0.0245 - lr: 6.3096e-05\n",
      "Epoch 38/100\n",
      "124/124 [==============================] - 2s 16ms/step - loss: 0.0010 - mae: 0.0237 - lr: 7.0795e-05\n",
      "Epoch 39/100\n",
      "124/124 [==============================] - 2s 17ms/step - loss: 9.8469e-04 - mae: 0.0225 - lr: 7.9433e-05\n",
      "Epoch 40/100\n",
      "124/124 [==============================] - 2s 17ms/step - loss: 9.3129e-04 - mae: 0.0218 - lr: 8.9125e-05\n",
      "Epoch 41/100\n",
      "124/124 [==============================] - 2s 18ms/step - loss: 8.8014e-04 - mae: 0.0213 - lr: 1.0000e-04\n",
      "Epoch 42/100\n",
      "124/124 [==============================] - 2s 16ms/step - loss: 8.2366e-04 - mae: 0.0198 - lr: 1.1220e-04\n",
      "Epoch 43/100\n",
      "124/124 [==============================] - 2s 16ms/step - loss: 7.7119e-04 - mae: 0.0194 - lr: 1.2589e-04\n",
      "Epoch 44/100\n",
      "124/124 [==============================] - 2s 16ms/step - loss: 7.1821e-04 - mae: 0.0186 - lr: 1.4125e-04\n",
      "Epoch 45/100\n",
      "124/124 [==============================] - 2s 17ms/step - loss: 6.7105e-04 - mae: 0.0175 - lr: 1.5849e-04\n",
      "Epoch 46/100\n",
      "124/124 [==============================] - 2s 18ms/step - loss: 6.2295e-04 - mae: 0.0166 - lr: 1.7783e-04\n",
      "Epoch 47/100\n",
      "124/124 [==============================] - 2s 18ms/step - loss: 5.8315e-04 - mae: 0.0160 - lr: 1.9953e-04\n",
      "Epoch 48/100\n",
      "124/124 [==============================] - 2s 18ms/step - loss: 5.5098e-04 - mae: 0.0162 - lr: 2.2387e-04\n",
      "Epoch 49/100\n",
      "124/124 [==============================] - 2s 18ms/step - loss: 5.1687e-04 - mae: 0.0152 - lr: 2.5119e-04\n",
      "Epoch 50/100\n",
      "124/124 [==============================] - 2s 17ms/step - loss: 4.8754e-04 - mae: 0.0141 - lr: 2.8184e-04\n",
      "Epoch 51/100\n",
      "124/124 [==============================] - 2s 18ms/step - loss: 5.0067e-04 - mae: 0.0157 - lr: 3.1623e-04\n",
      "Epoch 52/100\n",
      "124/124 [==============================] - 2s 15ms/step - loss: 4.8285e-04 - mae: 0.0152 - lr: 3.5481e-04\n",
      "Epoch 53/100\n",
      "124/124 [==============================] - 2s 15ms/step - loss: 4.3875e-04 - mae: 0.0135 - lr: 3.9811e-04\n",
      "Epoch 54/100\n",
      "124/124 [==============================] - 2s 17ms/step - loss: 4.3846e-04 - mae: 0.0146 - lr: 4.4668e-04\n",
      "Epoch 55/100\n",
      "124/124 [==============================] - 2s 17ms/step - loss: 4.3571e-04 - mae: 0.0142 - lr: 5.0119e-04\n",
      "Epoch 56/100\n",
      "124/124 [==============================] - 2s 16ms/step - loss: 4.0900e-04 - mae: 0.0136 - lr: 5.6234e-04\n",
      "Epoch 57/100\n",
      "124/124 [==============================] - 2s 16ms/step - loss: 3.8664e-04 - mae: 0.0127 - lr: 6.3096e-04\n",
      "Epoch 58/100\n",
      "124/124 [==============================] - 2s 15ms/step - loss: 3.9749e-04 - mae: 0.0134 - lr: 7.0795e-04\n",
      "Epoch 59/100\n",
      "124/124 [==============================] - 2s 16ms/step - loss: 3.9509e-04 - mae: 0.0135 - lr: 7.9433e-04\n",
      "Epoch 60/100\n",
      "124/124 [==============================] - 2s 16ms/step - loss: 3.8276e-04 - mae: 0.0136 - lr: 8.9125e-04\n",
      "Epoch 61/100\n",
      "124/124 [==============================] - 2s 15ms/step - loss: 3.5501e-04 - mae: 0.0121 - lr: 0.0010\n",
      "Epoch 62/100\n",
      "124/124 [==============================] - 2s 16ms/step - loss: 3.8542e-04 - mae: 0.0140 - lr: 0.0011\n",
      "Epoch 63/100\n",
      "124/124 [==============================] - 2s 16ms/step - loss: 3.7190e-04 - mae: 0.0127 - lr: 0.0013\n",
      "Epoch 64/100\n",
      "124/124 [==============================] - 2s 15ms/step - loss: 3.5525e-04 - mae: 0.0120 - lr: 0.0014\n",
      "Epoch 65/100\n",
      "124/124 [==============================] - 3s 20ms/step - loss: 3.5457e-04 - mae: 0.0121 - lr: 0.0016\n",
      "Epoch 66/100\n",
      "124/124 [==============================] - 2s 17ms/step - loss: 3.7138e-04 - mae: 0.0128 - lr: 0.0018\n",
      "Epoch 67/100\n",
      "124/124 [==============================] - 2s 15ms/step - loss: 3.6283e-04 - mae: 0.0131 - lr: 0.0020\n",
      "Epoch 68/100\n",
      "124/124 [==============================] - 2s 16ms/step - loss: 3.6509e-04 - mae: 0.0127 - lr: 0.0022\n",
      "Epoch 69/100\n",
      "124/124 [==============================] - 2s 15ms/step - loss: 3.5816e-04 - mae: 0.0123 - lr: 0.0025\n",
      "Epoch 70/100\n",
      "124/124 [==============================] - 2s 16ms/step - loss: 3.4821e-04 - mae: 0.0117 - lr: 0.0028\n",
      "Epoch 71/100\n",
      "124/124 [==============================] - 3s 20ms/step - loss: 3.3671e-04 - mae: 0.0110 - lr: 0.0032\n",
      "Epoch 72/100\n",
      "124/124 [==============================] - 2s 16ms/step - loss: 3.5197e-04 - mae: 0.0129 - lr: 0.0035\n",
      "Epoch 73/100\n",
      "124/124 [==============================] - 2s 15ms/step - loss: 3.6354e-04 - mae: 0.0128 - lr: 0.0040\n",
      "Epoch 74/100\n",
      "124/124 [==============================] - 2s 15ms/step - loss: 3.4183e-04 - mae: 0.0114 - lr: 0.0045\n",
      "Epoch 75/100\n",
      "124/124 [==============================] - 2s 15ms/step - loss: 3.7142e-04 - mae: 0.0136 - lr: 0.0050\n",
      "Epoch 76/100\n",
      "124/124 [==============================] - 2s 14ms/step - loss: 4.0233e-04 - mae: 0.0158 - lr: 0.0056\n",
      "Epoch 77/100\n",
      "124/124 [==============================] - 2s 14ms/step - loss: 3.5215e-04 - mae: 0.0125 - lr: 0.0063\n",
      "Epoch 78/100\n",
      "124/124 [==============================] - 2s 18ms/step - loss: 3.7539e-04 - mae: 0.0137 - lr: 0.0071\n",
      "Epoch 79/100\n",
      "124/124 [==============================] - 3s 21ms/step - loss: 3.6289e-04 - mae: 0.0132 - lr: 0.0079\n",
      "Epoch 80/100\n",
      "124/124 [==============================] - 2s 19ms/step - loss: 3.8841e-04 - mae: 0.0143 - lr: 0.0089\n",
      "Epoch 81/100\n",
      "124/124 [==============================] - 3s 25ms/step - loss: 3.9791e-04 - mae: 0.0152 - lr: 0.0100\n",
      "Epoch 82/100\n",
      "124/124 [==============================] - 2s 17ms/step - loss: 3.6470e-04 - mae: 0.0130 - lr: 0.0112\n",
      "Epoch 83/100\n",
      "124/124 [==============================] - 2s 18ms/step - loss: 3.6909e-04 - mae: 0.0130 - lr: 0.0126\n",
      "Epoch 84/100\n",
      "124/124 [==============================] - 2s 15ms/step - loss: 3.8388e-04 - mae: 0.0144 - lr: 0.0141\n",
      "Epoch 85/100\n",
      "124/124 [==============================] - 2s 15ms/step - loss: 3.8101e-04 - mae: 0.0138 - lr: 0.0158\n",
      "Epoch 86/100\n",
      "124/124 [==============================] - 2s 16ms/step - loss: 3.7172e-04 - mae: 0.0135 - lr: 0.0178\n",
      "Epoch 87/100\n",
      "124/124 [==============================] - 2s 15ms/step - loss: 4.0602e-04 - mae: 0.0144 - lr: 0.0200\n",
      "Epoch 88/100\n",
      "124/124 [==============================] - 2s 17ms/step - loss: 3.8338e-04 - mae: 0.0136 - lr: 0.0224\n",
      "Epoch 89/100\n",
      "124/124 [==============================] - 2s 15ms/step - loss: 4.4706e-04 - mae: 0.0168 - lr: 0.0251\n",
      "Epoch 90/100\n",
      "124/124 [==============================] - 2s 16ms/step - loss: 4.9309e-04 - mae: 0.0179 - lr: 0.0282\n",
      "Epoch 91/100\n",
      "124/124 [==============================] - 2s 16ms/step - loss: 4.2380e-04 - mae: 0.0163 - lr: 0.0316\n",
      "Epoch 92/100\n",
      "124/124 [==============================] - 2s 17ms/step - loss: 4.3017e-04 - mae: 0.0162 - lr: 0.0355\n",
      "Epoch 93/100\n",
      "124/124 [==============================] - 2s 16ms/step - loss: 4.0848e-04 - mae: 0.0153 - lr: 0.0398\n",
      "Epoch 94/100\n",
      "124/124 [==============================] - 2s 17ms/step - loss: 4.5629e-04 - mae: 0.0171 - lr: 0.0447\n",
      "Epoch 95/100\n",
      "124/124 [==============================] - 3s 21ms/step - loss: 5.5266e-04 - mae: 0.0200 - lr: 0.0501\n",
      "Epoch 96/100\n",
      "124/124 [==============================] - 2s 16ms/step - loss: 5.0702e-04 - mae: 0.0185 - lr: 0.0562\n",
      "Epoch 97/100\n",
      "124/124 [==============================] - 2s 16ms/step - loss: 5.5390e-04 - mae: 0.0195 - lr: 0.0631\n",
      "Epoch 98/100\n",
      "124/124 [==============================] - 2s 15ms/step - loss: 4.9689e-04 - mae: 0.0192 - lr: 0.0708\n",
      "Epoch 99/100\n",
      "124/124 [==============================] - 2s 17ms/step - loss: 5.8606e-04 - mae: 0.0219 - lr: 0.0794\n",
      "Epoch 100/100\n",
      "124/124 [==============================] - 2s 15ms/step - loss: 4.6274e-04 - mae: 0.0179 - lr: 0.0891\n"
     ]
    }
   ],
   "source": [
    "model = tf.keras.models.Sequential([\n",
    "  tf.keras.layers.LSTM(32, return_sequences=False, input_shape = (X_train_70.shape[1], 1)),\n",
    "  tf.keras.layers.Dense(32, activation=\"relu\"),\n",
    "  tf.keras.layers.Dense(1)\n",
    "])\n",
    "\n",
    "lr_schedule = tf.keras.callbacks.LearningRateScheduler(\n",
    "    lambda epoch: 1e-6 * 10**(epoch / 20))\n",
    "optimizer = tf.keras.optimizers.Adam(lr=1e-6)\n",
    "model.compile(loss=tf.keras.losses.Huber(),\n",
    "              optimizer=optimizer,\n",
    "              metrics=[\"mae\"])\n",
    "history = model.fit(X_train_70, y_train_70, epochs=100, callbacks=[lr_schedule])"
   ]
  },
  {
   "cell_type": "markdown",
   "metadata": {
    "id": "SnCsYTcTxF9t"
   },
   "source": [
    "7. Testing Dataset"
   ]
  },
  {
   "cell_type": "code",
   "execution_count": 18,
   "metadata": {
    "id": "gHME1UKzxOLX"
   },
   "outputs": [],
   "source": [
    "def test_split(training_len, scaled_data):\n",
    "  scaled_data = scaled_data\n",
    "  test_data = scaled_data[training_len - 30:, :]\n",
    "\n",
    "  X_test = []\n",
    "  y_test = data_array[training_len:, :]\n",
    "  for i in range(30, len(test_data)):\n",
    "    X_test.append(test_data[i-30:i, 0])\n",
    "\n",
    "  X_test = np.array(X_test)\n",
    "  X_test = np.reshape(X_test, (X_test.shape[0], X_test.shape[1], 1))\n",
    "\n",
    "  return X_test, y_test, test_data"
   ]
  },
  {
   "cell_type": "code",
   "execution_count": 19,
   "metadata": {
    "id": "7YxFsygt25Bp"
   },
   "outputs": [],
   "source": [
    "X_test_30, y_test_30, test_data_30 = test_split(training_len_70, scaled_data)"
   ]
  },
  {
   "cell_type": "code",
   "execution_count": 20,
   "metadata": {
    "colab": {
     "base_uri": "https://localhost:8080/"
    },
    "id": "AfUnnwG2voiG",
    "outputId": "d5a8ebdb-ba64-4c46-f0c2-d41494738c4e"
   },
   "outputs": [
    {
     "data": {
      "text/plain": [
       "(1702, 30, 1)"
      ]
     },
     "execution_count": 20,
     "metadata": {},
     "output_type": "execute_result"
    }
   ],
   "source": [
    "X_test_30.shape"
   ]
  },
  {
   "cell_type": "markdown",
   "metadata": {
    "id": "HV9ZOWrJxyNp"
   },
   "source": [
    "8. Model predicting"
   ]
  },
  {
   "cell_type": "code",
   "execution_count": 21,
   "metadata": {
    "id": "HCyPCB4Nx0z3"
   },
   "outputs": [],
   "source": [
    "def predict(X_test, model):\n",
    "  predictions = model.predict(X_test)\n",
    "  predictions\n",
    "\n",
    "  return predictions"
   ]
  },
  {
   "cell_type": "code",
   "execution_count": 22,
   "metadata": {
    "colab": {
     "base_uri": "https://localhost:8080/"
    },
    "id": "rX-nY1W4xUc9",
    "outputId": "e9e545b8-7726-49d9-8e21-aca02e61070b"
   },
   "outputs": [
    {
     "name": "stdout",
     "output_type": "stream",
     "text": [
      "54/54 [==============================] - 2s 7ms/step\n"
     ]
    },
    {
     "data": {
      "text/plain": [
       "array([[0.53065133],\n",
       "       [0.5217598 ],\n",
       "       [0.5147095 ],\n",
       "       ...,\n",
       "       [0.01561224],\n",
       "       [0.01561224],\n",
       "       [0.01561224]], dtype=float32)"
      ]
     },
     "execution_count": 22,
     "metadata": {},
     "output_type": "execute_result"
    }
   ],
   "source": [
    "predictions_30 = predict(X_test_30, model)\n",
    "predictions_30"
   ]
  },
  {
   "cell_type": "code",
   "execution_count": 23,
   "metadata": {
    "colab": {
     "base_uri": "https://localhost:8080/"
    },
    "id": "0Rjq1qgmyFoo",
    "outputId": "ba9f1dcb-fbdc-4af4-8956-d77dbaf44442"
   },
   "outputs": [
    {
     "data": {
      "text/plain": [
       "array([[63.044064],\n",
       "       [62.306065],\n",
       "       [61.72089 ],\n",
       "       ...,\n",
       "       [20.295816],\n",
       "       [20.295816],\n",
       "       [20.295816]], dtype=float32)"
      ]
     },
     "execution_count": 23,
     "metadata": {},
     "output_type": "execute_result"
    }
   ],
   "source": [
    "predictions_inverse_30 = scaler.inverse_transform(predictions_30)\n",
    "predictions_inverse_30"
   ]
  },
  {
   "cell_type": "markdown",
   "metadata": {
    "id": "bw16hUMsyPeG"
   },
   "source": [
    "9. Model Evaluate"
   ]
  },
  {
   "cell_type": "code",
   "execution_count": 24,
   "metadata": {
    "colab": {
     "base_uri": "https://localhost:8080/",
     "height": 112
    },
    "id": "Hlvhs6T1yTsO",
    "outputId": "91b24c27-2485-4670-902d-e18d5e9c2ca5"
   },
   "outputs": [
    {
     "data": {
      "text/html": [
       "<div>\n",
       "<style scoped>\n",
       "    .dataframe tbody tr th:only-of-type {\n",
       "        vertical-align: middle;\n",
       "    }\n",
       "\n",
       "    .dataframe tbody tr th {\n",
       "        vertical-align: top;\n",
       "    }\n",
       "\n",
       "    .dataframe thead th {\n",
       "        text-align: right;\n",
       "    }\n",
       "</style>\n",
       "<table border=\"1\" class=\"dataframe\">\n",
       "  <thead>\n",
       "    <tr style=\"text-align: right;\">\n",
       "      <th></th>\n",
       "      <th>0</th>\n",
       "      <th>1</th>\n",
       "      <th>2</th>\n",
       "      <th>3</th>\n",
       "      <th>4</th>\n",
       "    </tr>\n",
       "  </thead>\n",
       "  <tbody>\n",
       "    <tr>\n",
       "      <th>0</th>\n",
       "      <td>Explained variance</td>\n",
       "      <td>MAE</td>\n",
       "      <td>MSE</td>\n",
       "      <td>RMSE</td>\n",
       "      <td>R^2</td>\n",
       "    </tr>\n",
       "    <tr>\n",
       "      <th>1</th>\n",
       "      <td>0.923715</td>\n",
       "      <td>0.015541</td>\n",
       "      <td>0.001423</td>\n",
       "      <td>0.037725</td>\n",
       "      <td>0.923693</td>\n",
       "    </tr>\n",
       "  </tbody>\n",
       "</table>\n",
       "</div>"
      ],
      "text/plain": [
       "                    0         1         2         3         4\n",
       "0  Explained variance       MAE       MSE      RMSE       R^2\n",
       "1            0.923715  0.015541  0.001423  0.037725  0.923693"
      ]
     },
     "execution_count": 24,
     "metadata": {},
     "output_type": "execute_result"
    }
   ],
   "source": [
    "var=explained_variance_score(y_test_30, predictions_30)\n",
    "mae=mean_absolute_error(y_test_30, predictions_30)\n",
    "mse=mean_squared_error (y_test_30, predictions_30)\n",
    "rmse=np.sqrt(mse)\n",
    "r2=r2_score(y_test_30, predictions_30)\n",
    "metric=[var,mae,mse,rmse,r2]\n",
    "evaluate=['Explained variance','MAE','MSE','RMSE','R^2']\n",
    "performance_evaluate=pd.DataFrame([evaluate,metric])\n",
    "performance_evaluate"
   ]
  },
  {
   "cell_type": "code",
   "execution_count": 25,
   "metadata": {
    "colab": {
     "base_uri": "https://localhost:8080/",
     "height": 439
    },
    "id": "xKiOF_XGybvC",
    "outputId": "65f5917c-189a-40a6-fab4-52feb7386bcd"
   },
   "outputs": [
    {
     "data": {
      "image/png": "[encoded data removed]",
      "text/plain": [
       "<Figure size 1400x600 with 1 Axes>"
      ]
     },
     "metadata": {},
     "output_type": "display_data"
    }
   ],
   "source": [
    "plt.figure(figsize=(14,6))\n",
    "plt.plot(history.history[\"loss\"], label=\"loss\")\n",
    "plt.xlabel(\"Epoch\")\n",
    "plt.ylabel(\"Loss\")\n",
    "plt.legend()\n",
    "plt.show()"
   ]
  },
  {
   "cell_type": "markdown",
   "metadata": {
    "id": "OLx_qn3jzC1I"
   },
   "source": [
    "#Transform Ndarray to Dataframe"
   ]
  },
  {
   "cell_type": "code",
   "execution_count": 26,
   "metadata": {
    "id": "vC3c0C69zA2P"
   },
   "outputs": [],
   "source": [
    "def compare(dataframe, training_len, predictions):\n",
    "  train = df[:training_len]\n",
    "  valid = df[training_len:]\n",
    "  valid['Predictions'] = predictions\n",
    "\n",
    "  return train, valid"
   ]
  },
  {
   "cell_type": "code",
   "execution_count": 27,
   "metadata": {
    "colab": {
     "base_uri": "https://localhost:8080/",
     "height": 579
    },
    "id": "TDzUnpfhzmKS",
    "outputId": "d7b5e2ec-a2d0-4257-e42e-de796f8e0797"
   },
   "outputs": [
    {
     "name": "stderr",
     "output_type": "stream",
     "text": [
      "C:\\Users\\Tania Christiana A\\AppData\\Local\\Temp\\ipykernel_11904\\3067466912.py:4: SettingWithCopyWarning: \n",
      "A value is trying to be set on a copy of a slice from a DataFrame.\n",
      "Try using .loc[row_indexer,col_indexer] = value instead\n",
      "\n",
      "See the caveats in the documentation: https://pandas.pydata.org/pandas-docs/stable/user_guide/indexing.html#returning-a-view-versus-a-copy\n",
      "  valid['Predictions'] = predictions\n"
     ]
    },
    {
     "data": {
      "text/html": [
       "<div>\n",
       "<style scoped>\n",
       "    .dataframe tbody tr th:only-of-type {\n",
       "        vertical-align: middle;\n",
       "    }\n",
       "\n",
       "    .dataframe tbody tr th {\n",
       "        vertical-align: top;\n",
       "    }\n",
       "\n",
       "    .dataframe thead th {\n",
       "        text-align: right;\n",
       "    }\n",
       "</style>\n",
       "<table border=\"1\" class=\"dataframe\">\n",
       "  <thead>\n",
       "    <tr style=\"text-align: right;\">\n",
       "      <th></th>\n",
       "      <th>O3</th>\n",
       "      <th>Predictions</th>\n",
       "    </tr>\n",
       "    <tr>\n",
       "      <th>DateTime</th>\n",
       "      <th></th>\n",
       "      <th></th>\n",
       "    </tr>\n",
       "  </thead>\n",
       "  <tbody>\n",
       "    <tr>\n",
       "      <th>2023-06-10 11:22:00</th>\n",
       "      <td>60.0</td>\n",
       "      <td>63.044064</td>\n",
       "    </tr>\n",
       "    <tr>\n",
       "      <th>2023-06-10 11:24:00</th>\n",
       "      <td>60.0</td>\n",
       "      <td>62.306065</td>\n",
       "    </tr>\n",
       "    <tr>\n",
       "      <th>2023-06-10 11:26:00</th>\n",
       "      <td>58.0</td>\n",
       "      <td>61.720890</td>\n",
       "    </tr>\n",
       "    <tr>\n",
       "      <th>2023-06-10 11:28:00</th>\n",
       "      <td>51.0</td>\n",
       "      <td>59.894169</td>\n",
       "    </tr>\n",
       "    <tr>\n",
       "      <th>2023-06-10 11:30:00</th>\n",
       "      <td>51.0</td>\n",
       "      <td>53.912663</td>\n",
       "    </tr>\n",
       "    <tr>\n",
       "      <th>...</th>\n",
       "      <td>...</td>\n",
       "      <td>...</td>\n",
       "    </tr>\n",
       "    <tr>\n",
       "      <th>2023-06-14 23:52:00</th>\n",
       "      <td>20.0</td>\n",
       "      <td>20.295816</td>\n",
       "    </tr>\n",
       "    <tr>\n",
       "      <th>2023-06-14 23:54:00</th>\n",
       "      <td>20.0</td>\n",
       "      <td>20.295816</td>\n",
       "    </tr>\n",
       "    <tr>\n",
       "      <th>2023-06-14 23:56:00</th>\n",
       "      <td>20.0</td>\n",
       "      <td>20.295816</td>\n",
       "    </tr>\n",
       "    <tr>\n",
       "      <th>2023-06-14 23:58:00</th>\n",
       "      <td>20.0</td>\n",
       "      <td>20.295816</td>\n",
       "    </tr>\n",
       "    <tr>\n",
       "      <th>2023-06-15 00:00:00</th>\n",
       "      <td>20.0</td>\n",
       "      <td>20.295816</td>\n",
       "    </tr>\n",
       "  </tbody>\n",
       "</table>\n",
       "<p>1702 rows × 2 columns</p>\n",
       "</div>"
      ],
      "text/plain": [
       "                       O3  Predictions\n",
       "DateTime                              \n",
       "2023-06-10 11:22:00  60.0    63.044064\n",
       "2023-06-10 11:24:00  60.0    62.306065\n",
       "2023-06-10 11:26:00  58.0    61.720890\n",
       "2023-06-10 11:28:00  51.0    59.894169\n",
       "2023-06-10 11:30:00  51.0    53.912663\n",
       "...                   ...          ...\n",
       "2023-06-14 23:52:00  20.0    20.295816\n",
       "2023-06-14 23:54:00  20.0    20.295816\n",
       "2023-06-14 23:56:00  20.0    20.295816\n",
       "2023-06-14 23:58:00  20.0    20.295816\n",
       "2023-06-15 00:00:00  20.0    20.295816\n",
       "\n",
       "[1702 rows x 2 columns]"
      ]
     },
     "execution_count": 27,
     "metadata": {},
     "output_type": "execute_result"
    }
   ],
   "source": [
    "train_70, valid_30 = compare(df, training_len_70, predictions_inverse_30)\n",
    "valid_30"
   ]
  },
  {
   "cell_type": "code",
   "execution_count": 28,
   "metadata": {
    "id": "qZdMTRV1zyxi"
   },
   "outputs": [],
   "source": [
    "valid_30.to_csv('data_predicted LSTM.csv')"
   ]
  },
  {
   "cell_type": "code",
   "execution_count": 29,
   "metadata": {
    "colab": {
     "base_uri": "https://localhost:8080/",
     "height": 238
    },
    "id": "6Tq0PT2fz8Jj",
    "outputId": "6c8160a5-97b3-4862-d6c8-1d11ee516255"
   },
   "outputs": [
    {
     "data": {
      "text/html": [
       "<div>\n",
       "<style scoped>\n",
       "    .dataframe tbody tr th:only-of-type {\n",
       "        vertical-align: middle;\n",
       "    }\n",
       "\n",
       "    .dataframe tbody tr th {\n",
       "        vertical-align: top;\n",
       "    }\n",
       "\n",
       "    .dataframe thead th {\n",
       "        text-align: right;\n",
       "    }\n",
       "</style>\n",
       "<table border=\"1\" class=\"dataframe\">\n",
       "  <thead>\n",
       "    <tr style=\"text-align: right;\">\n",
       "      <th></th>\n",
       "      <th>O3</th>\n",
       "      <th>Predictions</th>\n",
       "    </tr>\n",
       "    <tr>\n",
       "      <th>DateTime</th>\n",
       "      <th></th>\n",
       "      <th></th>\n",
       "    </tr>\n",
       "  </thead>\n",
       "  <tbody>\n",
       "    <tr>\n",
       "      <th>2023-06-14 23:52:00</th>\n",
       "      <td>20.0</td>\n",
       "      <td>20.295816</td>\n",
       "    </tr>\n",
       "    <tr>\n",
       "      <th>2023-06-14 23:54:00</th>\n",
       "      <td>20.0</td>\n",
       "      <td>20.295816</td>\n",
       "    </tr>\n",
       "    <tr>\n",
       "      <th>2023-06-14 23:56:00</th>\n",
       "      <td>20.0</td>\n",
       "      <td>20.295816</td>\n",
       "    </tr>\n",
       "    <tr>\n",
       "      <th>2023-06-14 23:58:00</th>\n",
       "      <td>20.0</td>\n",
       "      <td>20.295816</td>\n",
       "    </tr>\n",
       "    <tr>\n",
       "      <th>2023-06-15 00:00:00</th>\n",
       "      <td>20.0</td>\n",
       "      <td>20.295816</td>\n",
       "    </tr>\n",
       "  </tbody>\n",
       "</table>\n",
       "</div>"
      ],
      "text/plain": [
       "                       O3  Predictions\n",
       "DateTime                              \n",
       "2023-06-14 23:52:00  20.0    20.295816\n",
       "2023-06-14 23:54:00  20.0    20.295816\n",
       "2023-06-14 23:56:00  20.0    20.295816\n",
       "2023-06-14 23:58:00  20.0    20.295816\n",
       "2023-06-15 00:00:00  20.0    20.295816"
      ]
     },
     "execution_count": 29,
     "metadata": {},
     "output_type": "execute_result"
    }
   ],
   "source": [
    "valid_30.tail()"
   ]
  },
  {
   "cell_type": "code",
   "execution_count": 30,
   "metadata": {
    "id": "yBkFRShz0CV_"
   },
   "outputs": [],
   "source": [
    "def plot_predict(train, valid):\n",
    "  plot = plt.figure(figsize=(17, 7))\n",
    "  plot = plt.plot(train['O3'], label = \"Traning\", c = \"b\")\n",
    "  plot = plt.plot(valid['O3'], label = \"Validation\", c = \"g\")\n",
    "  plot = plt.plot(valid['Predictions'], label = \"Predict\", c = \"r\")\n",
    "  plot = plt.legend()\n",
    "  plot = plt.show()\n",
    "\n",
    "  return plot"
   ]
  },
  {
   "cell_type": "code",
   "execution_count": 31,
   "metadata": {
    "colab": {
     "base_uri": "https://localhost:8080/"
    },
    "id": "zRWsw9dk0nHN",
    "outputId": "8f960e41-d854-4fa8-c2d1-d9a7347cca49"
   },
   "outputs": [
    {
     "name": "stderr",
     "output_type": "stream",
     "text": [
      "C:\\Users\\Tania Christiana A\\AppData\\Local\\Temp\\ipykernel_11904\\1642496669.py:1: SettingWithCopyWarning: \n",
      "A value is trying to be set on a copy of a slice from a DataFrame.\n",
      "Try using .loc[row_indexer,col_indexer] = value instead\n",
      "\n",
      "See the caveats in the documentation: https://pandas.pydata.org/pandas-docs/stable/user_guide/indexing.html#returning-a-view-versus-a-copy\n",
      "  valid_30['LSTM'] = valid_30['Predictions']\n",
      "C:\\Users\\Tania Christiana A\\AppData\\Local\\Temp\\ipykernel_11904\\1642496669.py:2: SettingWithCopyWarning: \n",
      "A value is trying to be set on a copy of a slice from a DataFrame\n",
      "\n",
      "See the caveats in the documentation: https://pandas.pydata.org/pandas-docs/stable/user_guide/indexing.html#returning-a-view-versus-a-copy\n",
      "  valid_30.drop(columns='LSTM',inplace=True)\n"
     ]
    }
   ],
   "source": [
    "valid_30['LSTM'] = valid_30['Predictions']\n",
    "valid_30.drop(columns='LSTM',inplace=True)"
   ]
  },
  {
   "cell_type": "code",
   "execution_count": 32,
   "metadata": {
    "colab": {
     "base_uri": "https://localhost:8080/",
     "height": 425
    },
    "id": "jZIG55sf0_Cu",
    "outputId": "f26ee34c-1e6f-47c6-d1ff-1e39928f88af"
   },
   "outputs": [
    {
     "data": {
      "image/png": "[encoded data removed]",
      "text/plain": [
       "<Figure size 1700x700 with 1 Axes>"
      ]
     },
     "metadata": {},
     "output_type": "display_data"
    }
   ],
   "source": [
    "plot = plt.figure(figsize=(17, 7))\n",
    "plot = plt.plot(train_70['O3'], label = \"Actual Training\", c = \"b\")\n",
    "plot = plt.plot(valid_30['O3'], label = \"Actual Testing\", c = \"r\")\n",
    "plot = plt.plot(valid_30['Predictions'], label = \"Predict\", c = \"g\")\n",
    "plt.xlabel('Time')\n",
    "plt.ylabel('O3 Concentration (ppb)')\n",
    "plot = plt.legend()\n",
    "plot = plt.show()"
   ]
  },
  {
   "cell_type": "code",
   "execution_count": 33,
   "metadata": {
    "colab": {
     "base_uri": "https://localhost:8080/",
     "height": 417
    },
    "id": "QtRit4X_1cZk",
    "outputId": "1dcbb2f2-b6db-4811-d596-fc08d48d35c6"
   },
   "outputs": [
    {
     "data": {
      "image/png": "[encoded data removed]",
      "text/plain": [
       "<Figure size 1700x700 with 1 Axes>"
      ]
     },
     "metadata": {},
     "output_type": "display_data"
    }
   ],
   "source": [
    "plot_predict_70_30 = plot_predict(train_70, valid_30)\n",
    "plot_predict_70_30"
   ]
  },
  {
   "cell_type": "code",
   "execution_count": 44,
   "metadata": {
    "colab": {
     "base_uri": "https://localhost:8080/"
    },
    "id": "0QB19pzewztl",
    "outputId": "b9028565-ed0d-490a-d598-bbccbec7dad0"
   },
   "outputs": [],
   "source": [
    "forecast = pd.DataFrame({'DateTime': pd.date_range(start='2023/06/15 00:02:00', end='2023/06/15 01:00:00', freq='2Min')})\n",
    "slot = 30\n",
    "inputs = test_data_30[len(test_data_30)-slot:]\n",
    "\n",
    "for i in range(slot, len(forecast)):\n",
    "    inputs = inputs.T\n",
    "    inputs = np.reshape(inputs, (inputs.shape[0], inputs.shape[1], 1))\n",
    "    predictions_30 = model.predict(inputs[:, i-slot:i])\n",
    "    inputs = np.append(inputs, predictions_30)\n",
    "    inputs = np.reshape(inputs, (inputs.shape[0], 1))\n",
    "\n",
    "forecast['O3'] = inputs[:len(forecast)]\n",
    "forecast = forecast.set_index('DateTime')"
   ]
  },
  {
   "cell_type": "code",
   "execution_count": 35,
   "metadata": {
    "colab": {
     "base_uri": "https://localhost:8080/"
    },
    "id": "ZqIByOc5w-Vf",
    "outputId": "d45ec039-68f2-4484-a333-3d2e2a97208a"
   },
   "outputs": [
    {
     "data": {
      "text/plain": [
       "(2160, 1)"
      ]
     },
     "execution_count": 35,
     "metadata": {},
     "output_type": "execute_result"
    }
   ],
   "source": [
    "forecast.shape"
   ]
  },
  {
   "cell_type": "code",
   "execution_count": 45,
   "metadata": {
    "colab": {
     "base_uri": "https://localhost:8080/",
     "height": 238
    },
    "id": "4sJ72141yjfW",
    "outputId": "8841a334-ceaa-4a73-f42f-04bf8f83af19"
   },
   "outputs": [
    {
     "data": {
      "text/html": [
       "<div>\n",
       "<style scoped>\n",
       "    .dataframe tbody tr th:only-of-type {\n",
       "        vertical-align: middle;\n",
       "    }\n",
       "\n",
       "    .dataframe tbody tr th {\n",
       "        vertical-align: top;\n",
       "    }\n",
       "\n",
       "    .dataframe thead th {\n",
       "        text-align: right;\n",
       "    }\n",
       "</style>\n",
       "<table border=\"1\" class=\"dataframe\">\n",
       "  <thead>\n",
       "    <tr style=\"text-align: right;\">\n",
       "      <th></th>\n",
       "      <th>O3</th>\n",
       "    </tr>\n",
       "    <tr>\n",
       "      <th>DateTime</th>\n",
       "      <th></th>\n",
       "    </tr>\n",
       "  </thead>\n",
       "  <tbody>\n",
       "    <tr>\n",
       "      <th>2023-06-15 00:02:00</th>\n",
       "      <td>0.012048</td>\n",
       "    </tr>\n",
       "    <tr>\n",
       "      <th>2023-06-15 00:04:00</th>\n",
       "      <td>0.024096</td>\n",
       "    </tr>\n",
       "    <tr>\n",
       "      <th>2023-06-15 00:06:00</th>\n",
       "      <td>0.012048</td>\n",
       "    </tr>\n",
       "    <tr>\n",
       "      <th>2023-06-15 00:08:00</th>\n",
       "      <td>0.012048</td>\n",
       "    </tr>\n",
       "    <tr>\n",
       "      <th>2023-06-15 00:10:00</th>\n",
       "      <td>0.012048</td>\n",
       "    </tr>\n",
       "  </tbody>\n",
       "</table>\n",
       "</div>"
      ],
      "text/plain": [
       "                           O3\n",
       "DateTime                     \n",
       "2023-06-15 00:02:00  0.012048\n",
       "2023-06-15 00:04:00  0.024096\n",
       "2023-06-15 00:06:00  0.012048\n",
       "2023-06-15 00:08:00  0.012048\n",
       "2023-06-15 00:10:00  0.012048"
      ]
     },
     "execution_count": 45,
     "metadata": {},
     "output_type": "execute_result"
    }
   ],
   "source": [
    "forecast.head()"
   ]
  },
  {
   "cell_type": "code",
   "execution_count": 46,
   "metadata": {
    "colab": {
     "base_uri": "https://localhost:8080/",
     "height": 238
    },
    "id": "SgQyC79Qzzn-",
    "outputId": "6dfe99c6-c520-42d2-c4b4-f5db58530d32"
   },
   "outputs": [
    {
     "data": {
      "text/html": [
       "<div>\n",
       "<style scoped>\n",
       "    .dataframe tbody tr th:only-of-type {\n",
       "        vertical-align: middle;\n",
       "    }\n",
       "\n",
       "    .dataframe tbody tr th {\n",
       "        vertical-align: top;\n",
       "    }\n",
       "\n",
       "    .dataframe thead th {\n",
       "        text-align: right;\n",
       "    }\n",
       "</style>\n",
       "<table border=\"1\" class=\"dataframe\">\n",
       "  <thead>\n",
       "    <tr style=\"text-align: right;\">\n",
       "      <th></th>\n",
       "      <th>O3</th>\n",
       "    </tr>\n",
       "    <tr>\n",
       "      <th>DateTime</th>\n",
       "      <th></th>\n",
       "    </tr>\n",
       "  </thead>\n",
       "  <tbody>\n",
       "    <tr>\n",
       "      <th>2023-06-15 00:52:00</th>\n",
       "      <td>0.012048</td>\n",
       "    </tr>\n",
       "    <tr>\n",
       "      <th>2023-06-15 00:54:00</th>\n",
       "      <td>0.012048</td>\n",
       "    </tr>\n",
       "    <tr>\n",
       "      <th>2023-06-15 00:56:00</th>\n",
       "      <td>0.012048</td>\n",
       "    </tr>\n",
       "    <tr>\n",
       "      <th>2023-06-15 00:58:00</th>\n",
       "      <td>0.012048</td>\n",
       "    </tr>\n",
       "    <tr>\n",
       "      <th>2023-06-15 01:00:00</th>\n",
       "      <td>0.012048</td>\n",
       "    </tr>\n",
       "  </tbody>\n",
       "</table>\n",
       "</div>"
      ],
      "text/plain": [
       "                           O3\n",
       "DateTime                     \n",
       "2023-06-15 00:52:00  0.012048\n",
       "2023-06-15 00:54:00  0.012048\n",
       "2023-06-15 00:56:00  0.012048\n",
       "2023-06-15 00:58:00  0.012048\n",
       "2023-06-15 01:00:00  0.012048"
      ]
     },
     "execution_count": 46,
     "metadata": {},
     "output_type": "execute_result"
    }
   ],
   "source": [
    "forecast.tail()"
   ]
  },
  {
   "cell_type": "code",
   "execution_count": 47,
   "metadata": {
    "id": "eolxE2IUzoPw"
   },
   "outputs": [],
   "source": [
    "forecast_inverse=scaler.inverse_transform(forecast)\n",
    "forecast_inverse=forecast_inverse.reshape((-1))"
   ]
  },
  {
   "cell_type": "code",
   "execution_count": 48,
   "metadata": {
    "id": "xWU6T35g0ddv"
   },
   "outputs": [],
   "source": [
    "forecast['O3']=forecast_inverse"
   ]
  },
  {
   "cell_type": "code",
   "execution_count": 40,
   "metadata": {
    "colab": {
     "base_uri": "https://localhost:8080/",
     "height": 394
    },
    "id": "Y_ERWAF-0sLf",
    "outputId": "032db5a4-3fbb-41e8-89c7-ed87f10e37b2"
   },
   "outputs": [
    {
     "data": {
      "text/html": [
       "<div>\n",
       "<style scoped>\n",
       "    .dataframe tbody tr th:only-of-type {\n",
       "        vertical-align: middle;\n",
       "    }\n",
       "\n",
       "    .dataframe tbody tr th {\n",
       "        vertical-align: top;\n",
       "    }\n",
       "\n",
       "    .dataframe thead th {\n",
       "        text-align: right;\n",
       "    }\n",
       "</style>\n",
       "<table border=\"1\" class=\"dataframe\">\n",
       "  <thead>\n",
       "    <tr style=\"text-align: right;\">\n",
       "      <th></th>\n",
       "      <th>O3</th>\n",
       "    </tr>\n",
       "    <tr>\n",
       "      <th>DateTime</th>\n",
       "      <th></th>\n",
       "    </tr>\n",
       "  </thead>\n",
       "  <tbody>\n",
       "    <tr>\n",
       "      <th>2023-06-15 00:02:00</th>\n",
       "      <td>20.0</td>\n",
       "    </tr>\n",
       "    <tr>\n",
       "      <th>2023-06-15 00:04:00</th>\n",
       "      <td>21.0</td>\n",
       "    </tr>\n",
       "    <tr>\n",
       "      <th>2023-06-15 00:06:00</th>\n",
       "      <td>20.0</td>\n",
       "    </tr>\n",
       "    <tr>\n",
       "      <th>2023-06-15 00:08:00</th>\n",
       "      <td>20.0</td>\n",
       "    </tr>\n",
       "    <tr>\n",
       "      <th>2023-06-15 00:10:00</th>\n",
       "      <td>20.0</td>\n",
       "    </tr>\n",
       "    <tr>\n",
       "      <th>2023-06-15 00:12:00</th>\n",
       "      <td>20.0</td>\n",
       "    </tr>\n",
       "    <tr>\n",
       "      <th>2023-06-15 00:14:00</th>\n",
       "      <td>20.0</td>\n",
       "    </tr>\n",
       "    <tr>\n",
       "      <th>2023-06-15 00:16:00</th>\n",
       "      <td>20.0</td>\n",
       "    </tr>\n",
       "    <tr>\n",
       "      <th>2023-06-15 00:18:00</th>\n",
       "      <td>20.0</td>\n",
       "    </tr>\n",
       "    <tr>\n",
       "      <th>2023-06-15 00:20:00</th>\n",
       "      <td>20.0</td>\n",
       "    </tr>\n",
       "  </tbody>\n",
       "</table>\n",
       "</div>"
      ],
      "text/plain": [
       "                       O3\n",
       "DateTime                 \n",
       "2023-06-15 00:02:00  20.0\n",
       "2023-06-15 00:04:00  21.0\n",
       "2023-06-15 00:06:00  20.0\n",
       "2023-06-15 00:08:00  20.0\n",
       "2023-06-15 00:10:00  20.0\n",
       "2023-06-15 00:12:00  20.0\n",
       "2023-06-15 00:14:00  20.0\n",
       "2023-06-15 00:16:00  20.0\n",
       "2023-06-15 00:18:00  20.0\n",
       "2023-06-15 00:20:00  20.0"
      ]
     },
     "execution_count": 40,
     "metadata": {},
     "output_type": "execute_result"
    }
   ],
   "source": [
    "forecast.head(10)"
   ]
  },
  {
   "cell_type": "code",
   "execution_count": 49,
   "metadata": {
    "colab": {
     "base_uri": "https://localhost:8080/",
     "height": 708
    },
    "id": "QzXNro8d4r5x",
    "outputId": "4091bdef-f348-4212-eded-52b0b89f0c4e"
   },
   "outputs": [
    {
     "data": {
      "text/html": [
       "<div>\n",
       "<style scoped>\n",
       "    .dataframe tbody tr th:only-of-type {\n",
       "        vertical-align: middle;\n",
       "    }\n",
       "\n",
       "    .dataframe tbody tr th {\n",
       "        vertical-align: top;\n",
       "    }\n",
       "\n",
       "    .dataframe thead th {\n",
       "        text-align: right;\n",
       "    }\n",
       "</style>\n",
       "<table border=\"1\" class=\"dataframe\">\n",
       "  <thead>\n",
       "    <tr style=\"text-align: right;\">\n",
       "      <th></th>\n",
       "      <th>O3</th>\n",
       "    </tr>\n",
       "    <tr>\n",
       "      <th>DateTime</th>\n",
       "      <th></th>\n",
       "    </tr>\n",
       "  </thead>\n",
       "  <tbody>\n",
       "    <tr>\n",
       "      <th>2023-06-15 00:22:00</th>\n",
       "      <td>20.0</td>\n",
       "    </tr>\n",
       "    <tr>\n",
       "      <th>2023-06-15 00:24:00</th>\n",
       "      <td>20.0</td>\n",
       "    </tr>\n",
       "    <tr>\n",
       "      <th>2023-06-15 00:26:00</th>\n",
       "      <td>20.0</td>\n",
       "    </tr>\n",
       "    <tr>\n",
       "      <th>2023-06-15 00:28:00</th>\n",
       "      <td>20.0</td>\n",
       "    </tr>\n",
       "    <tr>\n",
       "      <th>2023-06-15 00:30:00</th>\n",
       "      <td>20.0</td>\n",
       "    </tr>\n",
       "    <tr>\n",
       "      <th>2023-06-15 00:32:00</th>\n",
       "      <td>20.0</td>\n",
       "    </tr>\n",
       "    <tr>\n",
       "      <th>2023-06-15 00:34:00</th>\n",
       "      <td>20.0</td>\n",
       "    </tr>\n",
       "    <tr>\n",
       "      <th>2023-06-15 00:36:00</th>\n",
       "      <td>20.0</td>\n",
       "    </tr>\n",
       "    <tr>\n",
       "      <th>2023-06-15 00:38:00</th>\n",
       "      <td>20.0</td>\n",
       "    </tr>\n",
       "    <tr>\n",
       "      <th>2023-06-15 00:40:00</th>\n",
       "      <td>20.0</td>\n",
       "    </tr>\n",
       "    <tr>\n",
       "      <th>2023-06-15 00:42:00</th>\n",
       "      <td>20.0</td>\n",
       "    </tr>\n",
       "    <tr>\n",
       "      <th>2023-06-15 00:44:00</th>\n",
       "      <td>20.0</td>\n",
       "    </tr>\n",
       "    <tr>\n",
       "      <th>2023-06-15 00:46:00</th>\n",
       "      <td>20.0</td>\n",
       "    </tr>\n",
       "    <tr>\n",
       "      <th>2023-06-15 00:48:00</th>\n",
       "      <td>24.0</td>\n",
       "    </tr>\n",
       "    <tr>\n",
       "      <th>2023-06-15 00:50:00</th>\n",
       "      <td>20.0</td>\n",
       "    </tr>\n",
       "    <tr>\n",
       "      <th>2023-06-15 00:52:00</th>\n",
       "      <td>20.0</td>\n",
       "    </tr>\n",
       "    <tr>\n",
       "      <th>2023-06-15 00:54:00</th>\n",
       "      <td>20.0</td>\n",
       "    </tr>\n",
       "    <tr>\n",
       "      <th>2023-06-15 00:56:00</th>\n",
       "      <td>20.0</td>\n",
       "    </tr>\n",
       "    <tr>\n",
       "      <th>2023-06-15 00:58:00</th>\n",
       "      <td>20.0</td>\n",
       "    </tr>\n",
       "    <tr>\n",
       "      <th>2023-06-15 01:00:00</th>\n",
       "      <td>20.0</td>\n",
       "    </tr>\n",
       "  </tbody>\n",
       "</table>\n",
       "</div>"
      ],
      "text/plain": [
       "                       O3\n",
       "DateTime                 \n",
       "2023-06-15 00:22:00  20.0\n",
       "2023-06-15 00:24:00  20.0\n",
       "2023-06-15 00:26:00  20.0\n",
       "2023-06-15 00:28:00  20.0\n",
       "2023-06-15 00:30:00  20.0\n",
       "2023-06-15 00:32:00  20.0\n",
       "2023-06-15 00:34:00  20.0\n",
       "2023-06-15 00:36:00  20.0\n",
       "2023-06-15 00:38:00  20.0\n",
       "2023-06-15 00:40:00  20.0\n",
       "2023-06-15 00:42:00  20.0\n",
       "2023-06-15 00:44:00  20.0\n",
       "2023-06-15 00:46:00  20.0\n",
       "2023-06-15 00:48:00  24.0\n",
       "2023-06-15 00:50:00  20.0\n",
       "2023-06-15 00:52:00  20.0\n",
       "2023-06-15 00:54:00  20.0\n",
       "2023-06-15 00:56:00  20.0\n",
       "2023-06-15 00:58:00  20.0\n",
       "2023-06-15 01:00:00  20.0"
      ]
     },
     "execution_count": 49,
     "metadata": {},
     "output_type": "execute_result"
    }
   ],
   "source": [
    "forecast.tail(20)"
   ]
  },
  {
   "cell_type": "code",
   "execution_count": 52,
   "metadata": {
    "id": "B7LhQohxK-WD"
   },
   "outputs": [],
   "source": [
    "forecast.to_csv('Forecast O3 15 Juni.csv')"
   ]
  },
  {
   "cell_type": "code",
   "execution_count": 54,
   "metadata": {},
   "outputs": [
    {
     "data": {
      "image/png": "[encoded data removed]",
      "text/plain": [
       "<Figure size 1700x700 with 1 Axes>"
      ]
     },
     "metadata": {},
     "output_type": "display_data"
    }
   ],
   "source": [
    "plot = plt.figure(figsize=(17, 7))\n",
    "plot = plt.plot(train_70['O3'], label = \"Actual Training\", c = \"b\")\n",
    "plot = plt.plot(valid_30['O3'], label = \"Actual Testing\", c = \"r\")\n",
    "plot = plt.plot(valid_30['Predictions'], label = \"Predict Testing\", c = \"g\")\n",
    "plot = plt.plot(forecast['O3'], label = \"Forecasting\", c = \"y\")\n",
    "plt.xlabel('Time')\n",
    "plt.ylabel('O3 Concentration (ppb)')\n",
    "plot = plt.legend()\n",
    "plot = plt.show()"
   ]
  }
 ],
 "metadata": {
  "colab": {
   "provenance": []
  },
  "kernelspec": {
   "display_name": "Python 3 (ipykernel)",
   "language": "python",
   "name": "python3"
  },
  "language_info": {
   "codemirror_mode": {
    "name": "ipython",
    "version": 3
   },
   "file_extension": ".py",
   "mimetype": "text/x-python",
   "name": "python",
   "nbconvert_exporter": "python",
   "pygments_lexer": "ipython3",
   "version": "3.10.9"
  }
 },
 "nbformat": 4,
 "nbformat_minor": 1
}
